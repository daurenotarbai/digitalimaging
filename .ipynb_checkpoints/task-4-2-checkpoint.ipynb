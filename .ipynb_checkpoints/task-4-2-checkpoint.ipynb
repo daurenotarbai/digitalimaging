{
 "cells": [
  {
   "cell_type": "code",
   "execution_count": 1,
   "metadata": {},
   "outputs": [
    {
     "name": "stderr",
     "output_type": "stream",
     "text": [
      "<ipython-input-1-5461e4da9cdd>:16: UserWarning: out_img.png is a low contrast image\n",
      "  imsave(\"out_img.png\", res_img)\n",
      "Lossy conversion from int64 to uint8. Range [0, 253]. Convert image to uint8 prior to saving to suppress this warning.\n"
     ]
    }
   ],
   "source": [
    "from skimage.io import imread, imsave\n",
    "from numpy import ndarray, clip\n",
    "\n",
    "\n",
    "def median_filter(img):\n",
    "    res = ndarray(shape=(img.shape[0] - 6, img.shape[1] - 6), dtype=int)\n",
    "    for i in range(res.shape[0]):\n",
    "        for j in range(res.shape[1]):\n",
    "            res[i, j] = sorted((img[i:i + 7, j:j + 7]).flatten())[24]\n",
    "    return res\n",
    "\n",
    "\n",
    "img = imread('tiger-gray-small-4-2.png')\n",
    "imshow(img)\n",
    "res_img = median_filter(img)\n",
    "\n",
    "imsave(\"out_img.png\", res_img)"
   ]
  },
  {
   "cell_type": "code",
   "execution_count": null,
   "metadata": {},
   "outputs": [],
   "source": []
  }
 ],
 "metadata": {
  "kernelspec": {
   "display_name": "Python 3",
   "language": "python",
   "name": "python3"
  },
  "language_info": {
   "codemirror_mode": {
    "name": "ipython",
    "version": 3
   },
   "file_extension": ".py",
   "mimetype": "text/x-python",
   "name": "python",
   "nbconvert_exporter": "python",
   "pygments_lexer": "ipython3",
   "version": "3.8.5"
  }
 },
 "nbformat": 4,
 "nbformat_minor": 4
}
