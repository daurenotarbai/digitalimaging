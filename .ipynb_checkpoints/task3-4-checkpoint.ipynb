{
 "cells": [
  {
   "cell_type": "code",
   "execution_count": 1,
   "metadata": {},
   "outputs": [],
   "source": [
    "from skimage.io import imread, imsave,imshow\n",
    "import skimage\n",
    "import itertools\n",
    "import numpy as np"
   ]
  },
  {
   "cell_type": "code",
   "execution_count": 2,
   "metadata": {},
   "outputs": [],
   "source": [
    "image = imread('img.png')\n",
    "imshow(image)"
   ]
  },
  {
   "cell_type": "code",
   "execution_count": 11,
   "metadata": {},
   "outputs": [],
   "source": [
    "def count_pixels_num(img):\n",
    "    return img.shape[0] * img.shape[1]"
   ]
  },
  {
   "cell_type": "code",
   "execution_count": 12,
   "metadata": {},
   "outputs": [],
   "source": [
    "def make_histogram(img):\n",
    "    h = np.zeros(256, np.uint32) \n",
    "    for value in img.flatten():\n",
    "        h[value] += 1\n",
    "    return np.array(h)"
   ]
  },
  {
   "cell_type": "code",
   "execution_count": 13,
   "metadata": {},
   "outputs": [],
   "source": [
    "def make_cdf(h):\n",
    "    cdf = np.zeros(256, np.uint32)\n",
    "    for value in range(256):\n",
    "        cdf = list(itertools.accumulate(h))\n",
    "    return np.array(cdf)"
   ]
  },
  {
   "cell_type": "code",
   "execution_count": 3,
   "metadata": {},
   "outputs": [],
   "source": [
    "def compute_cdf_min(cdf):\n",
    "    values = sorted(list(set(cdf))) \n",
    "    for value in values:\n",
    "        if values[0] == 0:\n",
    "            min_cdf = values[1]\n",
    "        else:\n",
    "            min_cdf = values[0]\n",
    "    return min_cdf"
   ]
  },
  {
   "cell_type": "code",
   "execution_count": 4,
   "metadata": {},
   "outputs": [],
   "source": [
    "def align_histogram(img, min_cdf, pixels_num, output_name):\n",
    "    aligned = img.copy()\n",
    "    for x in range(img.shape[0]):\n",
    "        for y in range(img.shape[1]):\n",
    "            pixel = img[x][y]\n",
    "            aligned[x][y] = round(255 * (cdf[pixel] - min_cdf) / (pixels_num - 1))\n",
    "    imsave('{}'.format(output_name), aligned)\n",
    "    return aligned"
   ]
  },
  {
   "cell_type": "code",
   "execution_count": null,
   "metadata": {},
   "outputs": [],
   "source": [
    "\n",
    "pixels_num = count_pixels_num(image)\n",
    "hist = make_histogram(image)\n",
    "cdf = make_cdf(hist)\n",
    "min_cdf = compute_cdf_min(cdf)\n",
    "aligned_image = align_histogram(image, min_cdf, pixels_num, 'out_img.png')"
   ]
  }
 ],
 "metadata": {
  "kernelspec": {
   "display_name": "Python 3",
   "language": "python",
   "name": "python3"
  },
  "language_info": {
   "codemirror_mode": {
    "name": "ipython",
    "version": 3
   },
   "file_extension": ".py",
   "mimetype": "text/x-python",
   "name": "python",
   "nbconvert_exporter": "python",
   "pygments_lexer": "ipython3",
   "version": "3.8.5"
  }
 },
 "nbformat": 4,
 "nbformat_minor": 4
}
