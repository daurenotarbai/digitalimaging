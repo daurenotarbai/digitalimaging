{
 "cells": [
  {
   "cell_type": "markdown",
   "metadata": {},
   "source": [
    "# Hough transform"
   ]
  },
  {
   "cell_type": "code",
   "execution_count": 1,
   "metadata": {},
   "outputs": [],
   "source": [
    "import sys\n",
    "import math\n",
    "import cv2 as cv\n",
    "import numpy as np\n",
    "\n",
    "default_file = 'sudoku.png'\n",
    "src = cv.imread(cv.samples.findFile(default_file), cv.IMREAD_GRAYSCALE)"
   ]
  },
  {
   "cell_type": "markdown",
   "metadata": {},
   "source": [
    "#### Определим края изображения с помощью детектора Canny:"
   ]
  },
  {
   "cell_type": "code",
   "execution_count": 2,
   "metadata": {},
   "outputs": [],
   "source": [
    "dst = cv.Canny(src, 50, 200, None, 3)"
   ]
  },
  {
   "cell_type": "markdown",
   "metadata": {},
   "source": [
    "#### Скопируем края изображений, результаты которых будут отображаться в BGR"
   ]
  },
  {
   "cell_type": "code",
   "execution_count": 3,
   "metadata": {},
   "outputs": [],
   "source": [
    "cdst = cv.cvtColor(dst, cv.COLOR_GRAY2BGR)\n",
    "cdstP = np.copy(cdst)"
   ]
  },
  {
   "cell_type": "markdown",
   "metadata": {},
   "source": [
    "## Стандартное преобразование линии Хафа:"
   ]
  },
  {
   "cell_type": "code",
   "execution_count": 4,
   "metadata": {},
   "outputs": [],
   "source": [
    "lines = cv.HoughLines(dst, 1, np.pi / 180, 150, None, 0, 0)"
   ]
  },
  {
   "cell_type": "markdown",
   "metadata": {},
   "source": [
    "\n",
    "dst : Шеткі детектордың шығысы. Бұл сұр реңктегі кескін болуы керек (шын мәнінде бұл екілік сипатта болса да)\n",
    "сызықтар : анықталған сызықтардың \\ ((x_ {start}, y_ {start}, x_ {end}, y_ {end}) \\) параметрлерін сақтайтын вектор.\n",
    "rho : \\ (r \\) параметрінің пиксельдегі ажыратымдылығы. Біз 1 пикселді қолданамыз .\n",
    "тета : \\ (\\ theta \\) параметрінің радиандардағы ажыратымдылығы. Біз 1 дәрежені қолданамыз (CV_PI / 180)\n",
    "табалдырық : сызықты «* анықтау *» үшін қиылыстардың минималды саны\n",
    "minLinLength : сызықты құра алатын нүктелердің минималды саны. Осы тармақтардан аз сызықтар еленбейді.\n",
    "maxLineGap : бір жолда қарастырылатын екі нүкте арасындағы максималды алшақтық."
   ]
  },
  {
   "cell_type": "code",
   "execution_count": 5,
   "metadata": {},
   "outputs": [],
   "source": [
    "if lines is not None:\n",
    "    for i in range(0, len(lines)):\n",
    "        rho = lines[i][0][0]\n",
    "        theta = lines[i][0][1]\n",
    "        a = math.cos(theta)\n",
    "        b = math.sin(theta)\n",
    "        x0 = a * rho\n",
    "        y0 = b * rho\n",
    "        pt1 = (int(x0 + 1000*(-b)), int(y0 + 1000*(a)))\n",
    "        pt2 = (int(x0 - 1000*(-b)), int(y0 - 1000*(a)))\n",
    "        cv.line(cdst, pt1, pt2, (0,0,255), 3, cv.LINE_AA)"
   ]
  },
  {
   "cell_type": "markdown",
   "metadata": {},
   "source": [
    "## Вероятностное преобразование линии"
   ]
  },
  {
   "cell_type": "code",
   "execution_count": 6,
   "metadata": {},
   "outputs": [],
   "source": [
    "linesP = cv.HoughLinesP(dst, 1, np.pi / 180, 50, None, 50, 10)"
   ]
  },
  {
   "cell_type": "markdown",
   "metadata": {},
   "source": [
    "с аргументами:\n",
    "    dst : Выход детектора края. Это должно быть изображение в градациях серого (хотя на самом деле оно двоичное)\n",
    "    lines : вектор, который будет хранить параметры \\ ((x_ {start}, y_ {start}, x_ {end}, y_ {end}) \\) обнаруженных строк\n",
    "    rho : разрешение параметра \\ (r \\) в пикселях. Мы используем 1 пиксель.\n",
    "    theta : разрешение параметра \\ (\\ theta \\) в радианах. Мы используем 1 степень (CV_PI / 180)\n",
    "    порог : минимальное количество пересечений для «* обнаружения *» линии.\n",
    "    minLinLength : минимальное количество точек, которые могут образовывать линию. Строки с меньшим количеством очков не учитываются.\n",
    "    maxLineGap : максимальный промежуток между двумя точками, которые следует учитывать в одной строке.\n",
    "А затем вы отображаете результат, рисуя линии."
   ]
  },
  {
   "cell_type": "code",
   "execution_count": 7,
   "metadata": {},
   "outputs": [],
   "source": [
    "if linesP is not None:\n",
    "    for i in range(0, len(linesP)):\n",
    "        l = linesP[i][0]\n",
    "        cv.line(cdstP, (l[0], l[1]), (l[2], l[3]), (0,0,255), 3, cv.LINE_AA)"
   ]
  },
  {
   "cell_type": "markdown",
   "metadata": {},
   "source": [
    "#### Отобразите исходное изображение и обнаруженные линии:"
   ]
  },
  {
   "cell_type": "code",
   "execution_count": 8,
   "metadata": {},
   "outputs": [
    {
     "data": {
      "text/plain": [
       "27"
      ]
     },
     "execution_count": 8,
     "metadata": {},
     "output_type": "execute_result"
    }
   ],
   "source": [
    "cv.imshow(\"Source\", src)\n",
    "cv.imshow(\"Detected Lines (in red) - Standard Hough Line Transform\", cdst)\n",
    "cv.imshow(\"Detected Lines (in red) - Probabilistic Line Transform\", cdstP)\n",
    "cv.waitKey()\n"
   ]
  },
  {
   "cell_type": "code",
   "execution_count": null,
   "metadata": {},
   "outputs": [],
   "source": []
  },
  {
   "cell_type": "code",
   "execution_count": null,
   "metadata": {},
   "outputs": [],
   "source": []
  },
  {
   "cell_type": "code",
   "execution_count": null,
   "metadata": {},
   "outputs": [],
   "source": []
  },
  {
   "cell_type": "code",
   "execution_count": null,
   "metadata": {},
   "outputs": [],
   "source": []
  },
  {
   "cell_type": "code",
   "execution_count": null,
   "metadata": {},
   "outputs": [],
   "source": []
  },
  {
   "cell_type": "code",
   "execution_count": 1,
   "metadata": {},
   "outputs": [
    {
     "data": {
      "text/plain": [
       "<function destroyAllWindows>"
      ]
     },
     "execution_count": 1,
     "metadata": {},
     "output_type": "execute_result"
    }
   ],
   "source": [
    "import cv2\n",
    "import numpy as np\n",
    "\n",
    "cv2.namedWindow('Result')\n",
    "img = cv2.imread('zhake.png')\n",
    "\n",
    "v1 = 0\n",
    "v2 = 0\n",
    "\n",
    "def doEdges():\n",
    "    edges = cv2.Canny(img,v1,v2)\n",
    "    edges = cv2.cvtColor(edges,cv2.COLOR_GRAY2BGR)\n",
    "    res = np.concatenate((img,edges),axis = 0)\n",
    "    cv2.imshow('Result',res)\n",
    "def setVal1(val):\n",
    "    global v1\n",
    "    v1 = val\n",
    "    doEdges()\n",
    "def setVal2(val):\n",
    "    global v2\n",
    "    v2 = val\n",
    "    doEdges()\n",
    "\n",
    "cv2.createTrackbar('Val1','Result',0,500,setVal1)\n",
    "cv2.createTrackbar('Val2','Result',0,500,setVal2)\n",
    "\n",
    "cv2.imshow('Result',img)\n",
    "cv2.waitKey(0)\n",
    "cv2.destroyAllWindows"
   ]
  }
 ],
 "metadata": {
  "kernelspec": {
   "display_name": "Python 3",
   "language": "python",
   "name": "python3"
  },
  "language_info": {
   "codemirror_mode": {
    "name": "ipython",
    "version": 3
   },
   "file_extension": ".py",
   "mimetype": "text/x-python",
   "name": "python",
   "nbconvert_exporter": "python",
   "pygments_lexer": "ipython3",
   "version": "3.8.5"
  }
 },
 "nbformat": 4,
 "nbformat_minor": 4
}
